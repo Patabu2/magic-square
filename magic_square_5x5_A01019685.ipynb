{
 "cells": [
  {
   "cell_type": "markdown",
   "metadata": {},
   "source": [
    "# Magic square with genetic algorithm\n",
    "\n",
    "Luis Ángel Campero García A01019685"
   ]
  },
  {
   "cell_type": "code",
   "execution_count": 13,
   "metadata": {},
   "outputs": [],
   "source": [
    "import numpy as np\n",
    "import random\n",
    "import matplotlib.pyplot as plt\n",
    "\n",
    "import time"
   ]
  },
  {
   "cell_type": "markdown",
   "metadata": {},
   "source": [
    "## Individual initialization"
   ]
  },
  {
   "cell_type": "code",
   "execution_count": 2,
   "metadata": {},
   "outputs": [
    {
     "data": {
      "text/plain": [
       "array([[13, 16,  8, 19,  1],\n",
       "       [ 6,  9, 10,  7, 22],\n",
       "       [17, 14, 20,  2, 23],\n",
       "       [15, 12,  5,  3, 11],\n",
       "       [ 4, 24, 25, 18, 21]])"
      ]
     },
     "execution_count": 2,
     "metadata": {},
     "output_type": "execute_result"
    }
   ],
   "source": [
    "def generate_random_square():\n",
    "    square = np.arange(1, 26)\n",
    "    np.random.shuffle(square)\n",
    "    square = square.reshape((5, 5))\n",
    "    return square\n",
    "generate_random_square()"
   ]
  },
  {
   "cell_type": "markdown",
   "metadata": {},
   "source": [
    "## Crossover operator"
   ]
  },
  {
   "cell_type": "code",
   "execution_count": 3,
   "metadata": {},
   "outputs": [],
   "source": [
    "# Not the cleanest probably, but it works ;v\n",
    "def combine(parent_a, parent_b, c_rate=1):\n",
    "    '''\n",
    "    Gets two parents and generates two offspring\n",
    "    @param parent_a: 4x4 NumPy matrix\n",
    "    @param parent_b: 4x4 NumPy matrix\n",
    "    @param c_rate: Probability \n",
    "    '''\n",
    "    # Copy the parents to preserve original objects just in case ;v\n",
    "    parent_a_copy = parent_a.copy().flatten()\n",
    "    parent_b_copy = parent_b.copy().flatten()\n",
    "    \n",
    "    i, j = random.sample(range(0, 25), 2)    \n",
    "    # Make sure i is smaller to avoid errors ;v\n",
    "    i, j = (j, i) if i > j else (i, j)\n",
    "\n",
    "    # Initialize offsprings full of Nones\n",
    "    offspring_a = np.full(parent_a_copy.shape, None)\n",
    "    offspring_b = np.full(parent_b_copy.shape, None)\n",
    "    \n",
    "    # Copy non-combined parts of parents to offspring\n",
    "    offspring_a[0: i] = parent_a_copy[0:i]\n",
    "    offspring_a[j+1:] = parent_a_copy[j+1:]\n",
    "    \n",
    "    offspring_b[0: i] = parent_b_copy[0:i]\n",
    "    offspring_b[j+1:] = parent_b_copy[j+1:]\n",
    "    \n",
    "    # Iterate to fill remaining parts\n",
    "    for gene in range(i, j + 1):\n",
    "        # If parent's b gene does not already exist in a\n",
    "        if parent_b_copy[gene] not in offspring_a:\n",
    "            # Pass those genes\n",
    "            offspring_a[gene] = parent_b_copy[gene]\n",
    "        # If it does, check if parent's a original gene can be put in that place instead\n",
    "        elif parent_a_copy[gene] not in offspring_a:\n",
    "            offspring_a[gene] = parent_a_copy[gene]\n",
    "        # If none of this is possible, luego vemos que onda xd\n",
    "        else:\n",
    "            continue\n",
    "            \n",
    "        \n",
    "        # Repeat the same for the second child\n",
    "        if parent_a_copy[gene] not in offspring_b:\n",
    "            offspring_b[gene] = parent_a_copy[gene]\n",
    "        elif parent_b_copy[gene] not in offspring_b:\n",
    "            offspring_b[gene] = parent_b_copy[gene]\n",
    "        else:\n",
    "            continue\n",
    "    \n",
    "    # Check for remaining missing values xd\n",
    "    for i in range(1, 26):\n",
    "        if i not in offspring_a:\n",
    "            # Find index of first available None\n",
    "            index = np.nonzero(offspring_a == None)[0][0]\n",
    "            # Replace None with i\n",
    "            offspring_a[index] = i\n",
    "        if i not in offspring_b:\n",
    "            # Find index of first available None\n",
    "            index = np.nonzero(offspring_b == None)[0][0]\n",
    "            # Replace None with i\n",
    "            offspring_b[index] = i\n",
    "    \n",
    "    return offspring_a.reshape((5,5)), offspring_b.reshape((5,5))"
   ]
  },
  {
   "cell_type": "markdown",
   "metadata": {},
   "source": [
    "## Mutation operator"
   ]
  },
  {
   "cell_type": "code",
   "execution_count": 4,
   "metadata": {},
   "outputs": [],
   "source": [
    "def mutate(individual, m_rate):\n",
    "    '''\n",
    "    Take a square and swap two random positions\n",
    "    @param individual: 4x4 NumPy matrix\n",
    "    @param m_rate: mutation rate. Probability that input individual gets mutated.\n",
    "    '''\n",
    "    if random.random() < m_rate:\n",
    "        individual = individual.copy().flatten()\n",
    "        i, j = random.sample(range(0, 25), 2)\n",
    "        individual[i], individual[j] = individual[j], individual[i]\n",
    "    return individual.reshape((5, 5))"
   ]
  },
  {
   "cell_type": "markdown",
   "metadata": {},
   "source": [
    "## Evaluation function"
   ]
  },
  {
   "cell_type": "code",
   "execution_count": 5,
   "metadata": {},
   "outputs": [
    {
     "name": "stdout",
     "output_type": "stream",
     "text": [
      "136\n",
      "0\n"
     ]
    }
   ],
   "source": [
    "def evaluate(test_square, m):\n",
    "    '''\n",
    "    Take a square and evaluate its closeness to a magic square\n",
    "    @param test_square: square matrix with unique integers ranging from 1 to\n",
    "    '''\n",
    "    # Copy to avoid overwriting original for some reason\n",
    "    square_copy = test_square.copy()\n",
    "\n",
    "    col_sum = 0\n",
    "    row_sum = 0\n",
    "    diag_sum = 0\n",
    "    for i in range(len(square_copy)):\n",
    "        col_sum += abs( m - square_copy[:, i].sum() )\n",
    "        row_sum += abs( m - square_copy[i, :].sum() )\n",
    "        diag_sum += square_copy[i, i] + square_copy[i, 4 - i]\n",
    "    diag_sum = abs(2 * m - diag_sum)\n",
    "    return col_sum + row_sum + diag_sum\n",
    "\n",
    "print( evaluate(generate_random_square(), 65) )\n",
    "\n",
    "# This one is solved xd\n",
    "test_magic_square = np.array([\n",
    "    [ 11,  24, 7, 20, 3],\n",
    "    [4,  12,  25, 8, 16],\n",
    "    [17, 5,  13, 21,  9],\n",
    "    [10, 18, 1,  14, 22],\n",
    "    [23, 6,  19, 2, 15]\n",
    "])\n",
    "\n",
    "print(evaluate(test_magic_square, 65))"
   ]
  },
  {
   "cell_type": "markdown",
   "metadata": {},
   "source": [
    "## Tournament selection"
   ]
  },
  {
   "cell_type": "code",
   "execution_count": 6,
   "metadata": {},
   "outputs": [],
   "source": [
    "def select(population, evaluation, tournament_size):\n",
    "    '''\n",
    "    Selects the best element in a population and removes it from it\n",
    "    @param population: list of 4x4 NumPy matrices\n",
    "    '''\n",
    "    winner_index = np.random.randint(0, len(population))\n",
    "    for i in range(tournament_size - 1):\n",
    "        rival_index = np.random.randint(0, len(population))\n",
    "        if evaluation[rival_index] < evaluation[winner_index]:\n",
    "            winner_index = rival_index\n",
    "    return population[winner_index]"
   ]
  },
  {
   "cell_type": "markdown",
   "metadata": {},
   "source": [
    "## Die lokale Suche"
   ]
  },
  {
   "cell_type": "code",
   "execution_count": 7,
   "metadata": {},
   "outputs": [],
   "source": [
    "def lokale_suche(x, eval_func, iterations):\n",
    "    for i in range(iterations):\n",
    "        # Generates a neigbor of individual\n",
    "        # We pass 1 to mutate to make sure it returns a neighbor\n",
    "        y = mutate(x, 1)\n",
    "        # If the cost of y is smaller than the cost of x, we replace x with y    \n",
    "        if (eval_func(y, 65) < eval_func(x, 65)):\n",
    "            x = y.copy()\n",
    "    # Returns the best solution found\n",
    "    return x"
   ]
  },
  {
   "cell_type": "markdown",
   "metadata": {},
   "source": [
    "## Genetic algorithm"
   ]
  },
  {
   "cell_type": "code",
   "execution_count": 21,
   "metadata": {
    "scrolled": false
   },
   "outputs": [],
   "source": [
    "def genetic_algorithm(p_size=50, generations=100, m_rate=0.1, memetic = False):\n",
    "    successes = 0\n",
    "    \n",
    "    # Creates the initial population\n",
    "    population = [generate_random_square() for _ in range(p_size)]\n",
    "    evaluation = [evaluate(individual, 65) for individual in population]\n",
    "    \n",
    "    # Keeps record of best individual found so far\n",
    "    best_score = min(evaluation)\n",
    "    min_index = evaluation.index(best_score)\n",
    "    best_individual = population[min_index]\n",
    "    \n",
    "    # Keeps the information for plotting the performance of the algorithm\n",
    "    best = []\n",
    "    avg = []\n",
    "    \n",
    "    # Run the evolutionary process\n",
    "    for gen in range(generations):\n",
    "        new_population = []\n",
    "        \n",
    "        # Crossover\n",
    "        for j in range(p_size // 2):\n",
    "            parent_a = select(population, evaluation, 3)\n",
    "            parent_b = select(population, evaluation, 3)\n",
    "            offspring_a, offspring_b = combine(parent_a, parent_b)\n",
    "            new_population.append(offspring_a)\n",
    "            new_population.append(offspring_b)\n",
    "        population = new_population\n",
    "        \n",
    "        #Mutation\n",
    "        for j in range(p_size):\n",
    "            population[j] = mutate(population[j], m_rate)\n",
    "            \n",
    "            if memetic is True:\n",
    "                # Memetic part\n",
    "                population[j] = lokale_suche(population[j], evaluate, 50)\n",
    "            \n",
    "            evaluation[j] = evaluate(population[j], 65)\n",
    "            \n",
    "            # Keeps record of best individual found so far\n",
    "            if evaluation[j] < best_score:\n",
    "                best_score = evaluation[j]\n",
    "                best_individual = population[j]\n",
    "        if best_score == 0:\n",
    "            successes += 1\n",
    "        \n",
    "        best.append(best_score)\n",
    "        avg.append( np.average(evaluation) )\n",
    "    \n",
    "    # Plot everithing\n",
    "    plt.figure(figsize = (8,8))\n",
    "    plt.plot(range(generations), best, label = \"Best\")\n",
    "    plt.plot(range(generations), avg, label = \"Average\")\n",
    "    plt.legend()\n",
    "    plt.title(\"GA Run\")\n",
    "    plt.show()\n",
    "    \n",
    "    success_rate = successes / generations\n",
    "    return best_score, best_individual, success_rate"
   ]
  },
  {
   "cell_type": "code",
   "execution_count": 22,
   "metadata": {},
   "outputs": [
    {
     "data": {
      "image/png": "[encoded data removed]",
      "text/plain": [
       "<Figure size 576x576 with 1 Axes>"
      ]
     },
     "metadata": {
      "needs_background": "light"
     },
     "output_type": "display_data"
    },
    {
     "name": "stdout",
     "output_type": "stream",
     "text": [
      "Run time: 1.2258469999999306s\n",
      "Success rate: 0.0\n",
      "Best score: 10\n",
      "Best individual:\n",
      "[[16 20 12 8 7]\n",
      " [1 6 19 14 25]\n",
      " [15 2 10 22 18]\n",
      " [9 24 5 17 11]\n",
      " [23 13 21 4 3]]\n"
     ]
    }
   ],
   "source": [
    "start = time.perf_counter()\n",
    "best_score, best_individual, success_rate = genetic_algorithm()\n",
    "end = time.perf_counter()\n",
    "\n",
    "print(f'Run time: {end - start}s')\n",
    "print(f'Success rate: {success_rate}')\n",
    "print(f'Best score: {best_score}')\n",
    "print('Best individual:')\n",
    "print(best_individual)"
   ]
  },
  {
   "cell_type": "code",
   "execution_count": 24,
   "metadata": {},
   "outputs": [
    {
     "data": {
      "image/png": "[encoded data removed]",
      "text/plain": [
       "<Figure size 576x576 with 1 Axes>"
      ]
     },
     "metadata": {
      "needs_background": "light"
     },
     "output_type": "display_data"
    },
    {
     "name": "stdout",
     "output_type": "stream",
     "text": [
      "Run time: 25.341502199999923s\n",
      "Success rate: 0.91\n",
      "Best score: 0\n",
      "Best individual:\n",
      "[[15 6 18 17 9]\n",
      " [3 19 16 20 7]\n",
      " [23 21 5 4 12]\n",
      " [10 8 1 22 24]\n",
      " [14 11 25 2 13]]\n"
     ]
    }
   ],
   "source": [
    "start = time.perf_counter()\n",
    "best_score, best_individual, success_rate = genetic_algorithm(memetic = True)\n",
    "end = time.perf_counter()\n",
    "print(f'Run time: {end - start}s')\n",
    "print(f'Success rate: {success_rate}')\n",
    "print(f'Best score: {best_score}')\n",
    "print('Best individual:')\n",
    "print(best_individual)"
   ]
  },
  {
   "cell_type": "code",
   "execution_count": null,
   "metadata": {},
   "outputs": [],
   "source": []
  }
 ],
 "metadata": {
  "kernelspec": {
   "display_name": "Python 3",
   "language": "python",
   "name": "python3"
  },
  "language_info": {
   "codemirror_mode": {
    "name": "ipython",
    "version": 3
   },
   "file_extension": ".py",
   "mimetype": "text/x-python",
   "name": "python",
   "nbconvert_exporter": "python",
   "pygments_lexer": "ipython3",
   "version": "3.8.5"
  }
 },
 "nbformat": 4,
 "nbformat_minor": 4
}
